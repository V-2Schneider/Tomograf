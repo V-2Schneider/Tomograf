{
 "cells": [
  {
   "cell_type": "code",
   "execution_count": 26,
   "metadata": {},
   "outputs": [],
   "source": [
    "import numpy as np\n",
    "import math\n",
    "import matplotlib.pyplot as plt\n",
    "import cv2\n",
    "import skimage\n",
    "from skimage import data\n",
    "import pydicom\n",
    "from pydicom.dataset import Dataset, FileDataset\n",
    "  \n",
    "    \n",
    "'''Podajemy wspolrzedne dwoch punktow, algorytm oblicza dlugosc odcinka, ktory tworza.\n",
    "Dziala tylko na liczbach calkowitych\n",
    "image-obraz wejsciowy\n",
    "xa,ya,xb,yb-wspolrzedne koncow odcinka\n",
    "w,h-srodek obrazu\n",
    "inv=True-stosujemy algorytm dla odwrotnej transformaty Radona'''\n",
    "  \n",
    "def bresenham(image,xa,xb,ya,yb,w,h,inv=False,col=1):\n",
    "    points=[]\n",
    "    if xa<xb:\n",
    "        x=1\n",
    "        dx=xb-xa;\n",
    "    else:\n",
    "        x=-1\n",
    "        dx=xa-xb\n",
    "\n",
    "    if ya<yb:\n",
    "        y=1\n",
    "        dy=yb-ya\n",
    "    else:\n",
    "        y=-1\n",
    "        dy=ya-yb  \n",
    "        \n",
    "    if xa>=0 and xa<w and ya>=0 and ya<h:\n",
    "        if inv==False:\n",
    "            color = image[h-1-ya][xa]\n",
    "            if color > 0: points.append(color)\n",
    "        else:\n",
    "            image[h-1-ya][xa] += col\n",
    "    if dx>dy:\n",
    "        a=(dy-dx)*2\n",
    "        b=dy*2\n",
    "        d=b-dx\n",
    "        while xa!=xb:\n",
    "            if d>=0:\n",
    "                xa+=x\n",
    "                ya+=y\n",
    "                d+=a\n",
    "            else:\n",
    "                d+=b\n",
    "                xa+=x\n",
    "            if xa>=0 and xa<w and ya>=0 and ya<h:\n",
    "                if inv==False:\n",
    "                    color = image[h-1-ya][xa]\n",
    "                    if color > 0: points.append(color)\n",
    "                else:\n",
    "                    image[h-1-ya][xa] += col\n",
    "    else:\n",
    "        a=(dx-dy)*2\n",
    "        b=dx*2\n",
    "        d=b-dy\n",
    "        while ya!=yb:\n",
    "            if d>=0:\n",
    "                xa+=x\n",
    "                ya+=y\n",
    "                d+=a\n",
    "            else:\n",
    "                d+=b\n",
    "                ya+=y\n",
    "            if xa>=0 and xa<w and ya>=0 and ya<h:\n",
    "                if inv==False:\n",
    "                    color = image[h-1-ya][xa]\n",
    "                    if color > 0: points.append(color)\n",
    "                else:\n",
    "                    image[h-1-ya][xa] += col\n",
    "    if inv==False:\n",
    "        return points\n",
    "    else:\n",
    "        return image"
   ]
  },
  {
   "cell_type": "code",
   "execution_count": 12,
   "metadata": {},
   "outputs": [],
   "source": [
    "#rysuje obraz po transformacie\n",
    "def drawRadon(img):\n",
    "    pom=img/max(img.flatten())\n",
    "    cv2.imshow('sinogram',pom)\n",
    "    cv2.waitKey(1000)\n",
    "    \n",
    "def drawInvRadon(img):\n",
    "    img -= min(img.flatten())\n",
    "    pom =img/ max(img.flatten())\n",
    "    cv2.imshow('obraz końcowy',pom)\n",
    "    cv2.waitKey(1000)"
   ]
  },
  {
   "cell_type": "code",
   "execution_count": 13,
   "metadata": {},
   "outputs": [],
   "source": [
    "'''Petla wyznacza kolejne punkty, dla ktorych stosowany jest algorytm  bresenhama.\n",
    "Zastosowano model emiterow/detektorow rownolegly'''\n",
    "def radonRepeat(inputImg,outputImg,w,h,nsteps,alfa,ndetectors=360,l=360,step=10,inv=False):\n",
    "    #odleglosc miedzy dwoma detektorami\n",
    "    detectorsDistance=l/(ndetectors-1)\n",
    "    r=math.sqrt(w*w+h*h) #promien okregu opisanego\n",
    "    alfa=alfa*math.pi/180 #kat o ktory sie przesuwamy w radianach\n",
    "    \n",
    "    for i in range(nsteps):\n",
    "        angle=alfa*i\n",
    "        for j in range(0,ndetectors):\n",
    "            d=l/2-detectorsDistance*j\n",
    "            dsign=1\n",
    "            if d<0:\n",
    "                dsign=-1\n",
    "                d=abs(d)\n",
    "            \n",
    "            sinus=abs(math.sin(angle))\n",
    "            cosinus=abs(math.cos(angle))\n",
    "            tangens=abs(math.tan(angle))\n",
    "            a=math.sqrt(r*r-d*d)\n",
    "            b=0\n",
    "            if sinus<0.0001:\n",
    "                ya=int(a+h)\n",
    "                yb=int(h-a)\n",
    "                if dsign==1:\n",
    "                    xa=int(w+d)\n",
    "                    xb=int(w+d)\n",
    "                else:\n",
    "                    xa=int(w-d)\n",
    "                    xb=int(w-d)\n",
    "            else:\n",
    "                b=d/tangens\n",
    "                y2=d/sinus\n",
    "                \n",
    "                if angle<=1.57:\n",
    "                    if dsign==1:\n",
    "                        xa=int(w+(a-b)*sinus)\n",
    "                        xb=int(w-(a+b)*sinus)\n",
    "                        y1=int((a-b)*cosinus)\n",
    "                        ya=int(y1+y2+h)\n",
    "                        y1=int((a+b)*cosinus)\n",
    "                        yb=int(h-(y1-y2))\n",
    "                    else:\n",
    "                        xa=int(w+(a+b)*sinus)\n",
    "                        xb=int(w-(a-b)*sinus)\n",
    "                        y1=int((a+b)*cosinus)\n",
    "                        ya=int(y1-y2+h)\n",
    "                        y1=int((a-b)*cosinus)\n",
    "                        yb=int(h-y1-y2)\n",
    "                else:\n",
    "                    if dsign==1:\n",
    "                        xa=int(w+(a+b)*sinus)\n",
    "                        xb=int(w-(a-b)*sinus)\n",
    "                        y1=int((a+b)*cosinus)\n",
    "                        ya=int(h-(y1-y2))\n",
    "                        y1=int((a-b)*cosinus)\n",
    "                        yb=int(h+y1+y2)\n",
    "                    else:\n",
    "                        xa=int(w+(a-b)*sinus)\n",
    "                        xb=int(w-(a+b)*sinus)\n",
    "                        y1=int((a-b)*cosinus)\n",
    "                        ya=int(h-y1-y2)\n",
    "                        y1=int((a+b)*cosinus)\n",
    "                        yb=int(h+y1-y2)\n",
    "            \n",
    "            if inv==False:\n",
    "                points=bresenham(inputImg,xa,xb,ya,yb,inputImg.shape[1],inputImg.shape[0])\n",
    "                if len(points)>0:\n",
    "                   outputImg[j][i]=sum(points) \n",
    "            else:\n",
    "                color=inputImg[j,i]\n",
    "                outputImg=bresenham(outputImg,xa,xb,ya,yb,inputImg.shape[0],inputImg.shape[0],True,color)\n",
    "        if i%step==0:\n",
    "            if inv==False:\n",
    "                drawRadon(outputImg)\n",
    "            else:\n",
    "                drawInvRadon(outputImg)           \n",
    "    if inv==False:\n",
    "        drawRadon(outputImg)\n",
    "    else:\n",
    "        drawInvRadon(outputImg)           \n",
    "    return outputImg"
   ]
  },
  {
   "cell_type": "code",
   "execution_count": 14,
   "metadata": {},
   "outputs": [],
   "source": [
    "'''\n",
    "model rownolegly\n",
    "image-obraz wejsciowy\n",
    "alfa-kat, o ktory obracamy emiter/detektor (w stopniach)\n",
    "ndetectors-liczba detektorow\n",
    "l-rozpietosc detektorow\n",
    "sinogram-obraz wyjsciowy\n",
    " '''\n",
    "def radon(image,alfa=1,ndetectors=360,l=360,step=10): \n",
    "    #w,h- srodek zdjecia\n",
    "    w=image.shape[1]//2\n",
    "    h=image.shape[0]//2 \n",
    "    nsteps=int(180/alfa)\n",
    "    sinogram = np.zeros((ndetectors,nsteps+1))\n",
    "\n",
    "    sinogram=radonRepeat(image,sinogram,w,h,nsteps,alfa,ndetectors,l,step)\n",
    "    \n",
    "    #normalizacja\n",
    "    sinogram /= max(sinogram.flatten())\n",
    "    return sinogram\n",
    "\n",
    "def inverseRadon(sinogram,alfa=1,ndetectors=360,l=360,step=10):\n",
    "    h=sinogram.shape[0]//2\n",
    "    w=h\n",
    "    nsteps=int(180/alfa+1)\n",
    "    image = np.zeros((sinogram.shape[0],sinogram.shape[0]))\n",
    "\n",
    "    image=radonRepeat(sinogram,image,w,h,nsteps,alfa,ndetectors,l,step,True)\n",
    "\n",
    "    #normalizacja\n",
    "    image -= min(image.flatten())\n",
    "    image /= max(image.flatten())\n",
    "\n",
    "    return image"
   ]
  },
  {
   "cell_type": "code",
   "execution_count": 29,
   "metadata": {},
   "outputs": [
    {
     "name": "stdout",
     "output_type": "stream",
     "text": [
      "Imie i nazwisko: Jedrzej\n",
      "ID: 432151\n",
      "Data: 1038-07-.7\n",
      "Czas: 10:38:07\n"
     ]
    }
   ],
   "source": [
    "def loadDICOM(filename):\n",
    "    file = pydicom.dcmread(filename)\n",
    "\n",
    "    name = str(file.PatientName)\n",
    "    patientId = str(file.PatientID)\n",
    "    date = str(file.StudyDate)  # Study date\n",
    "    time = str(file.StudyTime)   # Study time\n",
    "    date = date[0:4]+\"-\"+date[4:6]+\"-\"+date[6:8]\n",
    "    time = time[0:2]+\":\"+time[2:4]+\":\"+time[4:6]\n",
    "    image = file.pixel_array\n",
    "    \n",
    "    print(\"Imie i nazwisko: \" + name)\n",
    "    print(\"ID: \" + patientId)\n",
    "    print(\"Data: \" + date)\n",
    "    print(\"Czas: \" + time)\n",
    "    \n",
    "    return image\n",
    "\n",
    "\n",
    "def loadNormalImage(filename):\n",
    "    image = cv2.imread(filename, 0)\n",
    "    return image\n",
    "\n",
    "def checkImage(image):\n",
    "    test = np.zeros(len(image[0]))\n",
    "    if image.shape[1] > image.shape[0]:\n",
    "        test = np.zeros((image.shape[1], image.shape[1]))\n",
    "        for i in range(len(image)):\n",
    "            test[i] = image[i]\n",
    "    else:\n",
    "        test = np.zeros((image.shape[0], image.shape[0]))\n",
    "        for i in range(len(image)):\n",
    "            for j in range(len(image[0])):\n",
    "                test[i][j] = image[i][j]\n",
    "    return test\n",
    "\n",
    "            \n",
    "image = loadDICOM(\"tmp9nbm13g5.dcm\")\n",
    "test = checkImage(image)\n",
    "\n",
    "#image = loadNormalImage(\"Kwadraty2.jpg\")"
   ]
  },
  {
   "cell_type": "code",
   "execution_count": null,
   "metadata": {},
   "outputs": [],
   "source": []
  },
  {
   "cell_type": "code",
   "execution_count": 30,
   "metadata": {},
   "outputs": [
    {
     "data": {
      "application/vnd.jupyter.widget-view+json": {
       "model_id": "c50cad14e361468c843639b51f96d9fa",
       "version_major": 2,
       "version_minor": 0
      },
      "text/plain": [
       "Label(value='Liczba detektorów:')"
      ]
     },
     "metadata": {},
     "output_type": "display_data"
    },
    {
     "data": {
      "application/vnd.jupyter.widget-view+json": {
       "model_id": "8d7805afa4674fd8825457c16b98dfc2",
       "version_major": 2,
       "version_minor": 0
      },
      "text/plain": [
       "interactive(children=(IntSlider(value=153, description='n', max=307, min=76), Output()), _dom_classes=('widget…"
      ]
     },
     "metadata": {},
     "output_type": "display_data"
    },
    {
     "data": {
      "application/vnd.jupyter.widget-view+json": {
       "model_id": "f3ba977141644883ba5dbfe6aeeb2029",
       "version_major": 2,
       "version_minor": 0
      },
      "text/plain": [
       "Label(value='Rozpiętość detektorów (dla l<n za l przyjmowana jest liczba detektorów):')"
      ]
     },
     "metadata": {},
     "output_type": "display_data"
    },
    {
     "data": {
      "application/vnd.jupyter.widget-view+json": {
       "model_id": "fa6a3587cdc541e49ee45946df774f1d",
       "version_major": 2,
       "version_minor": 0
      },
      "text/plain": [
       "interactive(children=(IntSlider(value=268, description='l', max=364, min=172), Output()), _dom_classes=('widge…"
      ]
     },
     "metadata": {},
     "output_type": "display_data"
    },
    {
     "data": {
      "application/vnd.jupyter.widget-view+json": {
       "model_id": "cd654b4b8de1424eace51e5f310904ee",
       "version_major": 2,
       "version_minor": 0
      },
      "text/plain": [
       "Label(value='Krok alfa układu emiter/detektor:')"
      ]
     },
     "metadata": {},
     "output_type": "display_data"
    },
    {
     "data": {
      "application/vnd.jupyter.widget-view+json": {
       "model_id": "9f25086d625b47a4b41b05d90e0d50fc",
       "version_major": 2,
       "version_minor": 0
      },
      "text/plain": [
       "interactive(children=(FloatSlider(value=1.0, description='alfa', max=2.0, min=0.5, step=0.5), Output()), _dom_…"
      ]
     },
     "metadata": {},
     "output_type": "display_data"
    },
    {
     "data": {
      "application/vnd.jupyter.widget-view+json": {
       "model_id": "cd238c2501d34f0a847e6f99bd693fe7",
       "version_major": 2,
       "version_minor": 0
      },
      "text/plain": [
       "Label(value='Co ile kroków wyświetlany jest tworzony obraz:')"
      ]
     },
     "metadata": {},
     "output_type": "display_data"
    },
    {
     "data": {
      "application/vnd.jupyter.widget-view+json": {
       "model_id": "b04d4ec549d34a0cb1bb1ea1ae1fb69c",
       "version_major": 2,
       "version_minor": 0
      },
      "text/plain": [
       "interactive(children=(IntSlider(value=10, description='krok', max=90, min=2), Output()), _dom_classes=('widget…"
      ]
     },
     "metadata": {},
     "output_type": "display_data"
    },
    {
     "data": {
      "application/vnd.jupyter.widget-view+json": {
       "model_id": "8db5e23413be48398e15573bca250b32",
       "version_major": 2,
       "version_minor": 0
      },
      "text/plain": [
       "Button(description='Wygeneruj obraz!', style=ButtonStyle())"
      ]
     },
     "metadata": {},
     "output_type": "display_data"
    }
   ],
   "source": [
    "from ipywidgets import interact, interactive, fixed, interact_manual\n",
    "import ipywidgets as widgets\n",
    "from IPython.display import display\n",
    "\n",
    "def slider(x):\n",
    "    return x\n",
    "\n",
    "#liczba detektorow\n",
    "caption = widgets.Label(value='Liczba detektorów:')\n",
    "n = interactive(slider, x=widgets.IntSlider(value=int(len(test)*0.4), description='n', max=int(len(test)*0.8), min=int(len(test)*0.2)))\n",
    "display(caption,n)\n",
    "#n=n.result\n",
    "\n",
    "#rozpietosc detektorow  \n",
    "caption = widgets.Label(value='Rozpiętość detektorów (dla l<n za l przyjmowana jest liczba detektorów):')\n",
    "l = interactive(slider, x=widgets.IntSlider(value=int(len(test)*0.7), description='l', max=int(len(test)*0.95), min=(int(len(test)*0.45))))\n",
    "display(caption,l)\n",
    "#l=l.result\n",
    "\n",
    "#krok alfa układu detektorów\n",
    "caption = widgets.Label(value='Krok alfa układu emiter/detektor:')\n",
    "alfa = interactive(slider, x=widgets.FloatSlider(value=1, description='alfa', max=2, min=0.5, step=0.5))\n",
    "display(caption,alfa)\n",
    "#alfa=alfa.result\n",
    "\n",
    "#co ile kroków wyświetlamy obraz wynikowy\n",
    "caption = widgets.Label(value='Co ile kroków wyświetlany jest tworzony obraz:')\n",
    "step = interactive(slider, x=widgets.IntSlider(value=10, description='krok', max=90, min=2))\n",
    "display(caption,step)\n",
    "#step=step.result\n",
    "\n",
    "button = widgets.Button(description=\"Wygeneruj obraz!\")\n",
    "display(button)\n",
    "\n",
    "\n",
    "def mainn(b):\n",
    "    n2=n.result\n",
    "    l2=l.result\n",
    "    alfa2=alfa.result\n",
    "    step2=step.result\n",
    "    #print(n2,l2,alfa2,step2)\n",
    "    if l2<n2: l2=n2\n",
    "    #wykonanie radona\n",
    "    radonSin=radon(test,alfa2,n2,l2,step2)\n",
    "    #l-czyli rozpietosc zmienia sie proporcjonalnie do zmiany wielkosci obrazu \n",
    "    l3=n2*l2/len(test)\n",
    "    radonInv=inverseRadon(radonSin,alfa2,n2,l3,step2)\n",
    "    cv2.waitKey(0)\n",
    "    cv2.destroyAllWindows()\n",
    "    \n",
    "button.on_click(mainn)"
   ]
  },
  {
   "cell_type": "code",
   "execution_count": 28,
   "metadata": {},
   "outputs": [
    {
     "name": "stdout",
     "output_type": "stream",
     "text": [
      "Setting file meta information...\n",
      "Setting dataset values...\n",
      "Writing test file C:\\Users\\DELL\\AppData\\Local\\Temp\\tmpai0k_k82.dcm\n",
      "File saved.\n",
      "Writing test file as Big Endian Explicit VR C:\\Users\\DELL\\AppData\\Local\\Temp\\tmp9nbm13g5.dcm\n"
     ]
    }
   ],
   "source": [
    "import os\n",
    "import tempfile\n",
    "import datetime\n",
    "\n",
    "def saveAsDicom(name, image, patientId): \n",
    "    # Create some temporary filenames\n",
    "    suffix = '.dcm'\n",
    "    filename_little_endian = tempfile.NamedTemporaryFile(suffix=suffix).name\n",
    "    filename_big_endian = tempfile.NamedTemporaryFile(suffix=suffix).name\n",
    "\n",
    "    print(\"Setting file meta information...\")\n",
    "    # Populate required values for file meta information\n",
    "    file_meta = Dataset()\n",
    "    file_meta.MediaStorageSOPClassUID = '1.2.840.10008.5.1.4.1.1.2'\n",
    "    file_meta.MediaStorageSOPInstanceUID = \"1.2.3\"\n",
    "    file_meta.ImplementationClassUID = \"1.2.3.4\"\n",
    "\n",
    "    print(\"Setting dataset values...\")\n",
    "    # Create the FileDataset instance (initially no data elements, but file_meta\n",
    "    # supplied)\n",
    "    ds = FileDataset(filename_little_endian, {},\n",
    "                     file_meta=file_meta, preamble=b\"\\0\" * 128)\n",
    "\n",
    "    # Add the data elements -- not trying to set all required here. Check DICOM\n",
    "    # standard\n",
    "    ds.PatientName = name\n",
    "    ds.PatientID = patientId\n",
    "\n",
    "    # Set the transfer syntax\n",
    "    ds.is_little_endian = True\n",
    "    ds.is_implicit_VR = True\n",
    "\n",
    "    # Set creation date/time\n",
    "    dt = datetime.datetime.now()\n",
    "    ds.ContentDate = dt.strftime('%Y%m%d')\n",
    "    timeStr = dt.strftime('%H%M%S.%f')  # long format with micro seconds\n",
    "    ds.ContentTime = timeStr\n",
    "    ds.StudyDate = timeStr\n",
    "    ds.StudyTime = timeStr\n",
    "    \n",
    "    # Set Image\n",
    "    \n",
    "    if image.dtype != np.uint16:   \n",
    "        image = skimage.img_as_uint(image)\n",
    "        \n",
    "    ds.PixelData = image.tostring()\n",
    "    ds.SamplesPerPixel = 1 \n",
    "    ds.PhotometricInterpretation = \"MONOCHROME2\" \n",
    "    ds.PixelRepresentation = 0 \n",
    "    ds.HighBit = 15    \n",
    "    ds.BitsStored = 16 \n",
    "    ds.BitsAllocated = 16  \n",
    "    ds.SmallestImagePixelValue = b'\\\\x00\\\\x00' \n",
    "    ds.LargestImagePixelValue = b'\\\\xff\\\\xff'  \n",
    "    ds.Rows = image.shape[1]  \n",
    "    ds.Columns = image.shape[0]   \n",
    "\n",
    "    print(\"Writing test file\", filename_little_endian)\n",
    "    ds.save_as(filename_little_endian)\n",
    "    print(\"File saved.\")\n",
    "\n",
    "    ds.file_meta.TransferSyntaxUID = pydicom.uid.ExplicitVRBigEndian\n",
    "    ds.is_little_endian = False\n",
    "    ds.is_implicit_VR = False\n",
    "\n",
    "    print(\"Writing test file as Big Endian Explicit VR\", filename_big_endian)\n",
    "    ds.save_as(filename_big_endian)\n",
    "\n",
    "        \n",
    "saveAsDicom(\"Jedrzej\", image, \"432151\")"
   ]
  },
  {
   "cell_type": "code",
   "execution_count": null,
   "metadata": {},
   "outputs": [],
   "source": []
  }
 ],
 "metadata": {
  "kernelspec": {
   "display_name": "Python 3",
   "language": "python",
   "name": "python3"
  },
  "language_info": {
   "codemirror_mode": {
    "name": "ipython",
    "version": 3
   },
   "file_extension": ".py",
   "mimetype": "text/x-python",
   "name": "python",
   "nbconvert_exporter": "python",
   "pygments_lexer": "ipython3",
   "version": "3.6.5"
  }
 },
 "nbformat": 4,
 "nbformat_minor": 2
}
