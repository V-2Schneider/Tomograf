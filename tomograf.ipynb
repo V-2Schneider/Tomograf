{
 "cells": [
  {
   "cell_type": "code",
   "execution_count": 69,
   "metadata": {},
   "outputs": [],
   "source": [
    "import numpy as np\n",
    "import math\n",
    "import matplotlib.pyplot as plt\n",
    "import cv2\n",
    "from skimage import data\n",
    "  \n",
    "'''Podajemy wspolrzedne dwoch punktow, algorytm oblicza dlugosc odcinka, ktory tworza.\n",
    "Dziala tylko na liczbach calkowitych\n",
    "image-obraz wejsciowy\n",
    "xa,ya,xb,yb-wspolrzedne koncow odcinka\n",
    "w,h-srodek obrazu\n",
    "inv=True-stosujemy algorytm dla odwrotnej transformaty Radona'''\n",
    "  \n",
    "def bresenham(image,xa,xb,ya,yb,w,h,inv=False,col=1):\n",
    "    points=[]\n",
    "    if xa<xb:\n",
    "        x=1\n",
    "        dx=xb-xa;\n",
    "    else:\n",
    "        x=-1\n",
    "        dx=xa-xb\n",
    "\n",
    "    if ya<yb:\n",
    "        y=1\n",
    "        dy=yb-ya\n",
    "    else:\n",
    "        y=-1\n",
    "        dy=ya-yb  \n",
    "        \n",
    "    if xa>=0 and xa<w and ya>=0 and ya<h:\n",
    "        if inv==False:\n",
    "            color = image[h-1-ya][xa]\n",
    "            if color > 0: points.append(color)\n",
    "        else:\n",
    "            image[h-1-ya][xa] += col\n",
    "    if dx>dy:\n",
    "        a=(dy-dx)*2\n",
    "        b=dy*2\n",
    "        d=b-dx\n",
    "        while xa!=xb:\n",
    "            if d>=0:\n",
    "                xa+=x\n",
    "                ya+=y\n",
    "                d+=a\n",
    "            else:\n",
    "                d+=b\n",
    "                xa+=x\n",
    "            if xa>=0 and xa<w and ya>=0 and ya<h:\n",
    "                if inv==False:\n",
    "                    color = image[h-1-ya][xa]\n",
    "                    if color > 0: points.append(color)\n",
    "                else:\n",
    "                    image[h-1-ya][xa] += col\n",
    "    else:\n",
    "        a=(dx-dy)*2\n",
    "        b=dx*2\n",
    "        d=b-dy\n",
    "        while ya!=yb:\n",
    "            if d>=0:\n",
    "                xa+=x\n",
    "                ya+=y\n",
    "                d+=a\n",
    "            else:\n",
    "                d+=b\n",
    "                ya+=y\n",
    "            if xa>=0 and xa<w and ya>=0 and ya<h:\n",
    "                if inv==False:\n",
    "                    color = image[h-1-ya][xa]\n",
    "                    if color > 0: points.append(color)\n",
    "                else:\n",
    "                    image[h-1-ya][xa] += col\n",
    "    if inv==False:\n",
    "        return points\n",
    "    else:\n",
    "        return image"
   ]
  },
  {
   "cell_type": "code",
   "execution_count": 70,
   "metadata": {},
   "outputs": [],
   "source": [
    "#rysuje obraz po transformacie\n",
    "def drawRadon(img):\n",
    "    pom=img/max(img.flatten())\n",
    "    cv2.imshow('sinogram',pom)\n",
    "    cv2.waitKey(1000)\n",
    "    \n",
    "def drawInvRadon(img):\n",
    "    img -= min(img.flatten())\n",
    "    pom =img/ max(img.flatten())\n",
    "    cv2.imshow('obraz końcowy',pom)\n",
    "    cv2.waitKey(1000)"
   ]
  },
  {
   "cell_type": "code",
   "execution_count": 75,
   "metadata": {},
   "outputs": [],
   "source": [
    "'''Petla wyznacza kolejne punkty, dla ktorych stosowany jest algorytm  bresenhama.\n",
    "Zastosowano model emiterow/detektorow rownolegly'''\n",
    "def radonRepeat(inputImg,outputImg,w,h,nsteps,alfa,ndetectors=360,l=360,step=10,inv=False):\n",
    "    #odleglosc miedzy dwoma detektorami\n",
    "    detectorsDistance=l/(ndetectors-1)\n",
    "    r=math.sqrt(w*w+h*h) #promien okregu opisanego\n",
    "    alfa=alfa*math.pi/180 #kat o ktory sie przesuwamy w radianach\n",
    "    \n",
    "    for i in range(nsteps):\n",
    "        angle=alfa*i\n",
    "        for j in range(0,ndetectors):\n",
    "            d=l/2-detectorsDistance*j\n",
    "            dsign=1\n",
    "            if d<0:\n",
    "                dsign=-1\n",
    "                d=abs(d)\n",
    "            \n",
    "            sinus=abs(math.sin(angle))\n",
    "            cosinus=abs(math.cos(angle))\n",
    "            tangens=abs(math.tan(angle))\n",
    "            a=math.sqrt(r*r-d*d)\n",
    "            b=0\n",
    "            if sinus<0.0001:\n",
    "                ya=int(a+h)\n",
    "                yb=int(h-a)\n",
    "                if dsign==1:\n",
    "                    xa=int(w+d)\n",
    "                    xb=int(w+d)\n",
    "                else:\n",
    "                    xa=int(w-d)\n",
    "                    xb=int(w-d)\n",
    "            else:\n",
    "                b=d/tangens\n",
    "                y2=d/sinus\n",
    "                \n",
    "                if angle<=1.57:\n",
    "                    if dsign==1:\n",
    "                        xa=int(w+(a-b)*sinus)\n",
    "                        xb=int(w-(a+b)*sinus)\n",
    "                        y1=int((a-b)*cosinus)\n",
    "                        ya=int(y1+y2+h)\n",
    "                        y1=int((a+b)*cosinus)\n",
    "                        yb=int(h-(y1-y2))\n",
    "                    else:\n",
    "                        xa=int(w+(a+b)*sinus)\n",
    "                        xb=int(w-(a-b)*sinus)\n",
    "                        y1=int((a+b)*cosinus)\n",
    "                        ya=int(y1-y2+h)\n",
    "                        y1=int((a-b)*cosinus)\n",
    "                        yb=int(h-y1-y2)\n",
    "                else:\n",
    "                    if dsign==1:\n",
    "                        xa=int(w+(a+b)*sinus)\n",
    "                        xb=int(w-(a-b)*sinus)\n",
    "                        y1=int((a+b)*cosinus)\n",
    "                        ya=int(h-(y1-y2))\n",
    "                        y1=int((a-b)*cosinus)\n",
    "                        yb=int(h+y1+y2)\n",
    "                    else:\n",
    "                        xa=int(w+(a-b)*sinus)\n",
    "                        xb=int(w-(a+b)*sinus)\n",
    "                        y1=int((a-b)*cosinus)\n",
    "                        ya=int(h-y1-y2)\n",
    "                        y1=int((a+b)*cosinus)\n",
    "                        yb=int(h+y1-y2)\n",
    "            \n",
    "            if inv==False:\n",
    "                points=bresenham(inputImg,xa,xb,ya,yb,inputImg.shape[1],inputImg.shape[0])\n",
    "                if len(points)>0:\n",
    "                   outputImg[j][i]=sum(points) \n",
    "            else:\n",
    "                color=inputImg[j,i]\n",
    "                outputImg=bresenham(outputImg,xa,xb,ya,yb,inputImg.shape[0],inputImg.shape[0],True,color)\n",
    "        if i%step==0:\n",
    "            if inv==False:\n",
    "                drawRadon(outputImg)\n",
    "            else:\n",
    "                drawInvRadon(outputImg)           \n",
    "    if inv==False:\n",
    "        drawRadon(outputImg)\n",
    "    else:\n",
    "        drawInvRadon(outputImg)           \n",
    "    return outputImg"
   ]
  },
  {
   "cell_type": "code",
   "execution_count": 80,
   "metadata": {},
   "outputs": [],
   "source": [
    "'''\n",
    "model rownolegly\n",
    "image-obraz wejsciowy\n",
    "alfa-kat, o ktory obracamy emiter/detektor (w stopniach)\n",
    "ndetectors-liczba detektorow\n",
    "l-rozpietosc detektorow\n",
    "sinogram-obraz wyjsciowy\n",
    " '''\n",
    "def radon(image,alfa=1,ndetectors=360,l=360,step=10): \n",
    "    #w,h- srodek zdjecia\n",
    "    w=image.shape[1]//2\n",
    "    h=image.shape[0]//2 \n",
    "    nsteps=int(180/alfa)\n",
    "    sinogram = np.zeros((ndetectors,nsteps+1))\n",
    "\n",
    "    sinogram=radonRepeat(image,sinogram,w,h,nsteps,alfa,ndetectors,l,step)\n",
    "    \n",
    "    #normalizacja\n",
    "    sinogram /= max(sinogram.flatten())\n",
    "    return sinogram\n",
    "\n",
    "def inverseRadon(sinogram,alfa=1,ndetectors=360,l=360,step=10):\n",
    "    h=sinogram.shape[0]//2\n",
    "    w=h\n",
    "    nsteps=int(180/alfa+1)\n",
    "    image = np.zeros((sinogram.shape[0],sinogram.shape[0]))\n",
    "\n",
    "    image=radonRepeat(sinogram,image,w,h,nsteps,alfa,ndetectors,l,step,True)\n",
    "\n",
    "    #normalizacja\n",
    "    image -= min(image.flatten())\n",
    "    image /= max(image.flatten())\n",
    "\n",
    "    return image"
   ]
  },
  {
   "cell_type": "code",
   "execution_count": 81,
   "metadata": {},
   "outputs": [],
   "source": [
    "image = cv2.imread(\"Kwadraty2.jpg\", 0)\n",
    "\n",
    "#dodaje czarne piksele tworzac kwadratowe zdjecie\n",
    "test=np.zeros(len(image[0]))\n",
    "if image.shape[1]>image.shape[0]:\n",
    "    test=np.zeros((image.shape[1],image.shape[1]))\n",
    "    for i in range(len(image)):\n",
    "        test[i]=image[i]\n",
    "else:\n",
    "    test=np.zeros((image.shape[0],image.shape[0]))\n",
    "    for i in range(len(image)):\n",
    "        for j in range(len(image[0])):\n",
    "            test[i][j]=image[i][j]\n"
   ]
  },
  {
   "cell_type": "code",
   "execution_count": 132,
   "metadata": {},
   "outputs": [
    {
     "data": {
      "application/vnd.jupyter.widget-view+json": {
       "model_id": "9e9e6317f0a744c392b52a4aefb4f070",
       "version_major": 2,
       "version_minor": 0
      },
      "text/html": [
       "<p>Failed to display Jupyter Widget of type <code>Label</code>.</p>\n",
       "<p>\n",
       "  If you're reading this message in the Jupyter Notebook or JupyterLab Notebook, it may mean\n",
       "  that the widgets JavaScript is still loading. If this message persists, it\n",
       "  likely means that the widgets JavaScript library is either not installed or\n",
       "  not enabled. See the <a href=\"https://ipywidgets.readthedocs.io/en/stable/user_install.html\">Jupyter\n",
       "  Widgets Documentation</a> for setup instructions.\n",
       "</p>\n",
       "<p>\n",
       "  If you're reading this message in another frontend (for example, a static\n",
       "  rendering on GitHub or <a href=\"https://nbviewer.jupyter.org/\">NBViewer</a>),\n",
       "  it may mean that your frontend doesn't currently support widgets.\n",
       "</p>\n"
      ],
      "text/plain": [
       "Label(value='Liczba detektorów:')"
      ]
     },
     "metadata": {},
     "output_type": "display_data"
    },
    {
     "data": {
      "application/vnd.jupyter.widget-view+json": {
       "model_id": "99113a0e8df0424abc1473ff9ec540b6",
       "version_major": 2,
       "version_minor": 0
      },
      "text/html": [
       "<p>Failed to display Jupyter Widget of type <code>interactive</code>.</p>\n",
       "<p>\n",
       "  If you're reading this message in the Jupyter Notebook or JupyterLab Notebook, it may mean\n",
       "  that the widgets JavaScript is still loading. If this message persists, it\n",
       "  likely means that the widgets JavaScript library is either not installed or\n",
       "  not enabled. See the <a href=\"https://ipywidgets.readthedocs.io/en/stable/user_install.html\">Jupyter\n",
       "  Widgets Documentation</a> for setup instructions.\n",
       "</p>\n",
       "<p>\n",
       "  If you're reading this message in another frontend (for example, a static\n",
       "  rendering on GitHub or <a href=\"https://nbviewer.jupyter.org/\">NBViewer</a>),\n",
       "  it may mean that your frontend doesn't currently support widgets.\n",
       "</p>\n"
      ],
      "text/plain": [
       "interactive(children=(IntSlider(value=153, description='n', max=307, min=76), Output()), _dom_classes=('widget-interact',))"
      ]
     },
     "metadata": {},
     "output_type": "display_data"
    },
    {
     "data": {
      "application/vnd.jupyter.widget-view+json": {
       "model_id": "a00fa354da134d84b9aadf114bb6686a",
       "version_major": 2,
       "version_minor": 0
      },
      "text/html": [
       "<p>Failed to display Jupyter Widget of type <code>Label</code>.</p>\n",
       "<p>\n",
       "  If you're reading this message in the Jupyter Notebook or JupyterLab Notebook, it may mean\n",
       "  that the widgets JavaScript is still loading. If this message persists, it\n",
       "  likely means that the widgets JavaScript library is either not installed or\n",
       "  not enabled. See the <a href=\"https://ipywidgets.readthedocs.io/en/stable/user_install.html\">Jupyter\n",
       "  Widgets Documentation</a> for setup instructions.\n",
       "</p>\n",
       "<p>\n",
       "  If you're reading this message in another frontend (for example, a static\n",
       "  rendering on GitHub or <a href=\"https://nbviewer.jupyter.org/\">NBViewer</a>),\n",
       "  it may mean that your frontend doesn't currently support widgets.\n",
       "</p>\n"
      ],
      "text/plain": [
       "Label(value='Rozpiętość detektorów (dla l<n za l przyjmowana jest liczba detektorów):')"
      ]
     },
     "metadata": {},
     "output_type": "display_data"
    },
    {
     "data": {
      "application/vnd.jupyter.widget-view+json": {
       "model_id": "4ee991a8a2274802923c1bc7456d8f87",
       "version_major": 2,
       "version_minor": 0
      },
      "text/html": [
       "<p>Failed to display Jupyter Widget of type <code>interactive</code>.</p>\n",
       "<p>\n",
       "  If you're reading this message in the Jupyter Notebook or JupyterLab Notebook, it may mean\n",
       "  that the widgets JavaScript is still loading. If this message persists, it\n",
       "  likely means that the widgets JavaScript library is either not installed or\n",
       "  not enabled. See the <a href=\"https://ipywidgets.readthedocs.io/en/stable/user_install.html\">Jupyter\n",
       "  Widgets Documentation</a> for setup instructions.\n",
       "</p>\n",
       "<p>\n",
       "  If you're reading this message in another frontend (for example, a static\n",
       "  rendering on GitHub or <a href=\"https://nbviewer.jupyter.org/\">NBViewer</a>),\n",
       "  it may mean that your frontend doesn't currently support widgets.\n",
       "</p>\n"
      ],
      "text/plain": [
       "interactive(children=(IntSlider(value=268, description='l', max=364, min=172), Output()), _dom_classes=('widget-interact',))"
      ]
     },
     "metadata": {},
     "output_type": "display_data"
    },
    {
     "data": {
      "application/vnd.jupyter.widget-view+json": {
       "model_id": "462ea30957d54d798ce8e1b7be75a5e2",
       "version_major": 2,
       "version_minor": 0
      },
      "text/html": [
       "<p>Failed to display Jupyter Widget of type <code>Label</code>.</p>\n",
       "<p>\n",
       "  If you're reading this message in the Jupyter Notebook or JupyterLab Notebook, it may mean\n",
       "  that the widgets JavaScript is still loading. If this message persists, it\n",
       "  likely means that the widgets JavaScript library is either not installed or\n",
       "  not enabled. See the <a href=\"https://ipywidgets.readthedocs.io/en/stable/user_install.html\">Jupyter\n",
       "  Widgets Documentation</a> for setup instructions.\n",
       "</p>\n",
       "<p>\n",
       "  If you're reading this message in another frontend (for example, a static\n",
       "  rendering on GitHub or <a href=\"https://nbviewer.jupyter.org/\">NBViewer</a>),\n",
       "  it may mean that your frontend doesn't currently support widgets.\n",
       "</p>\n"
      ],
      "text/plain": [
       "Label(value='Krok alfa układu emiter/detektor:')"
      ]
     },
     "metadata": {},
     "output_type": "display_data"
    },
    {
     "data": {
      "application/vnd.jupyter.widget-view+json": {
       "model_id": "6d504242fa6d4d5095597bf46c515d08",
       "version_major": 2,
       "version_minor": 0
      },
      "text/html": [
       "<p>Failed to display Jupyter Widget of type <code>interactive</code>.</p>\n",
       "<p>\n",
       "  If you're reading this message in the Jupyter Notebook or JupyterLab Notebook, it may mean\n",
       "  that the widgets JavaScript is still loading. If this message persists, it\n",
       "  likely means that the widgets JavaScript library is either not installed or\n",
       "  not enabled. See the <a href=\"https://ipywidgets.readthedocs.io/en/stable/user_install.html\">Jupyter\n",
       "  Widgets Documentation</a> for setup instructions.\n",
       "</p>\n",
       "<p>\n",
       "  If you're reading this message in another frontend (for example, a static\n",
       "  rendering on GitHub or <a href=\"https://nbviewer.jupyter.org/\">NBViewer</a>),\n",
       "  it may mean that your frontend doesn't currently support widgets.\n",
       "</p>\n"
      ],
      "text/plain": [
       "interactive(children=(FloatSlider(value=1.0, description='alfa', max=2.0, min=0.5, step=0.5), Output()), _dom_classes=('widget-interact',))"
      ]
     },
     "metadata": {},
     "output_type": "display_data"
    },
    {
     "data": {
      "application/vnd.jupyter.widget-view+json": {
       "model_id": "4315d3ea083b42b28b6b5850abe6d43f",
       "version_major": 2,
       "version_minor": 0
      },
      "text/html": [
       "<p>Failed to display Jupyter Widget of type <code>Label</code>.</p>\n",
       "<p>\n",
       "  If you're reading this message in the Jupyter Notebook or JupyterLab Notebook, it may mean\n",
       "  that the widgets JavaScript is still loading. If this message persists, it\n",
       "  likely means that the widgets JavaScript library is either not installed or\n",
       "  not enabled. See the <a href=\"https://ipywidgets.readthedocs.io/en/stable/user_install.html\">Jupyter\n",
       "  Widgets Documentation</a> for setup instructions.\n",
       "</p>\n",
       "<p>\n",
       "  If you're reading this message in another frontend (for example, a static\n",
       "  rendering on GitHub or <a href=\"https://nbviewer.jupyter.org/\">NBViewer</a>),\n",
       "  it may mean that your frontend doesn't currently support widgets.\n",
       "</p>\n"
      ],
      "text/plain": [
       "Label(value='Co ile kroków wyświetlany jest tworzony obraz:')"
      ]
     },
     "metadata": {},
     "output_type": "display_data"
    },
    {
     "data": {
      "application/vnd.jupyter.widget-view+json": {
       "model_id": "aa953650cc0d41f5b66002d6b665f668",
       "version_major": 2,
       "version_minor": 0
      },
      "text/html": [
       "<p>Failed to display Jupyter Widget of type <code>interactive</code>.</p>\n",
       "<p>\n",
       "  If you're reading this message in the Jupyter Notebook or JupyterLab Notebook, it may mean\n",
       "  that the widgets JavaScript is still loading. If this message persists, it\n",
       "  likely means that the widgets JavaScript library is either not installed or\n",
       "  not enabled. See the <a href=\"https://ipywidgets.readthedocs.io/en/stable/user_install.html\">Jupyter\n",
       "  Widgets Documentation</a> for setup instructions.\n",
       "</p>\n",
       "<p>\n",
       "  If you're reading this message in another frontend (for example, a static\n",
       "  rendering on GitHub or <a href=\"https://nbviewer.jupyter.org/\">NBViewer</a>),\n",
       "  it may mean that your frontend doesn't currently support widgets.\n",
       "</p>\n"
      ],
      "text/plain": [
       "interactive(children=(IntSlider(value=10, description='krok', max=90, min=2), Output()), _dom_classes=('widget-interact',))"
      ]
     },
     "metadata": {},
     "output_type": "display_data"
    },
    {
     "data": {
      "application/vnd.jupyter.widget-view+json": {
       "model_id": "6084c733c0d24cd48be002ccde722975",
       "version_major": 2,
       "version_minor": 0
      },
      "text/html": [
       "<p>Failed to display Jupyter Widget of type <code>Button</code>.</p>\n",
       "<p>\n",
       "  If you're reading this message in the Jupyter Notebook or JupyterLab Notebook, it may mean\n",
       "  that the widgets JavaScript is still loading. If this message persists, it\n",
       "  likely means that the widgets JavaScript library is either not installed or\n",
       "  not enabled. See the <a href=\"https://ipywidgets.readthedocs.io/en/stable/user_install.html\">Jupyter\n",
       "  Widgets Documentation</a> for setup instructions.\n",
       "</p>\n",
       "<p>\n",
       "  If you're reading this message in another frontend (for example, a static\n",
       "  rendering on GitHub or <a href=\"https://nbviewer.jupyter.org/\">NBViewer</a>),\n",
       "  it may mean that your frontend doesn't currently support widgets.\n",
       "</p>\n"
      ],
      "text/plain": [
       "Button(description='Wygeneruj obraz!', style=ButtonStyle())"
      ]
     },
     "metadata": {},
     "output_type": "display_data"
    }
   ],
   "source": [
    "from ipywidgets import interact, interactive, fixed, interact_manual\n",
    "import ipywidgets as widgets\n",
    "from IPython.display import display\n",
    "\n",
    "def slider(x):\n",
    "    return x\n",
    "\n",
    "#liczba detektorow\n",
    "caption = widgets.Label(value='Liczba detektorów:')\n",
    "n = interactive(slider, x=widgets.IntSlider(value=int(len(test)*0.4), description='n', max=int(len(test)*0.8), min=int(len(test)*0.2)))\n",
    "display(caption,n)\n",
    "#n=n.result\n",
    "\n",
    "#rozpietosc detektorow  \n",
    "caption = widgets.Label(value='Rozpiętość detektorów (dla l<n za l przyjmowana jest liczba detektorów):')\n",
    "l = interactive(slider, x=widgets.IntSlider(value=int(len(test)*0.7), description='l', max=int(len(test)*0.95), min=(int(len(test)*0.45))))\n",
    "display(caption,l)\n",
    "#l=l.result\n",
    "\n",
    "#krok alfa układu detektorów\n",
    "caption = widgets.Label(value='Krok alfa układu emiter/detektor:')\n",
    "alfa = interactive(slider, x=widgets.FloatSlider(value=1, description='alfa', max=2, min=0.5, step=0.5))\n",
    "display(caption,alfa)\n",
    "#alfa=alfa.result\n",
    "\n",
    "#co ile kroków wyświetlamy obraz wynikowy\n",
    "caption = widgets.Label(value='Co ile kroków wyświetlany jest tworzony obraz:')\n",
    "step = interactive(slider, x=widgets.IntSlider(value=10, description='krok', max=90, min=2))\n",
    "display(caption,step)\n",
    "#step=step.result\n",
    "\n",
    "button = widgets.Button(description=\"Wygeneruj obraz!\")\n",
    "display(button)\n",
    "\n",
    "\n",
    "def mainn(b):\n",
    "    n2=n.result\n",
    "    l2=l.result\n",
    "    alfa2=alfa.result\n",
    "    step2=step.result\n",
    "    #print(n2,l2,alfa2,step2)\n",
    "    if l2<n2: l2=n2\n",
    "    #wykonanie radona\n",
    "    radonSin=radon(test,alfa2,n2,l2,step2)\n",
    "    #l-czyli rozpietosc zmienia sie proporcjonalnie do zmiany wielkosci obrazu \n",
    "    l3=n2*l2/len(test)\n",
    "    radonInv=inverseRadon(radonSin,alfa2,n2,l3,step2)\n",
    "    cv2.waitKey(0)\n",
    "    cv2.destroyAllWindows()\n",
    "    \n",
    "button.on_click(mainn)"
   ]
  },
  {
   "cell_type": "code",
   "execution_count": 100,
   "metadata": {},
   "outputs": [],
   "source": []
  },
  {
   "cell_type": "code",
   "execution_count": null,
   "metadata": {},
   "outputs": [],
   "source": []
  }
 ],
 "metadata": {
  "kernelspec": {
   "display_name": "Python 3",
   "language": "python",
   "name": "python3"
  },
  "language_info": {
   "codemirror_mode": {
    "name": "ipython",
    "version": 3
   },
   "file_extension": ".py",
   "mimetype": "text/x-python",
   "name": "python",
   "nbconvert_exporter": "python",
   "pygments_lexer": "ipython3",
   "version": "3.6.4"
  }
 },
 "nbformat": 4,
 "nbformat_minor": 2
}
